from tensorflow.keras.models import load_model
from tensorflow.keras.utils import img_to_array
from PIL import Image
import numpy as np

# Load your model
try:
    keras_model = load_model("C:/Users/PHOENIX/Desktop/my project 1/BrainTumor10Epo.h5")
    print("Model loaded successfully.")
except Exception as e:
    print(f"Error loading model: {e}")
    keras_model = None

# Print the model's expected input shape
if keras_model:
    print("Model input shape:", keras_model.input_shape)

    # Define the path to the test image
    test_image_path = "flaskApp\datasets\yes\y8.jpg"
    
    try:
        # Open and preprocess the image according to model's expected input shape
        image = Image.open(test_image_path).convert("RGB")
        
        # Use the dimensions from the model's input shape to resize
        required_height, required_width = keras_model.input_shape[1:3]
        image = image.resize((required_width, required_height))
        
        # Convert image to array and normalize
        image_array = img_to_array(image) / 255.0
        image_array = np.expand_dims(image_array, axis=0)

        print("Prepared image shape:", image_array.shape)

        # Make a prediction to test if the shape is correct
        predictions = keras_model.predict(image_array)
        print("Model prediction:", predictions)

    except Exception as e:
        print(f"Error processing image: {e}")
